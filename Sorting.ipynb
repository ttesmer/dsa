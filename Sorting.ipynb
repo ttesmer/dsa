{
 "cells": [
  {
   "cell_type": "markdown",
   "id": "d64d672d",
   "metadata": {},
   "source": [
    "# Sorting algorithms"
   ]
  },
  {
   "cell_type": "code",
   "execution_count": 131,
   "id": "a9beffe3",
   "metadata": {},
   "outputs": [],
   "source": [
    "def bubble_sort(xs):\n",
    "    \"\"\"\n",
    "    O(n^2) sorting algorithm.\n",
    "    Beware, it mutates the list.\n",
    "    \"\"\"\n",
    "    for i in range(len(xs)):\n",
    "        for j in range(len(xs)-1):\n",
    "            if xs[j] > xs[j+1]:\n",
    "                xs[j], xs[j+1] = xs[j+1], xs[j]\n",
    "    return xs\n",
    "\n",
    "def merge_sort(xs):\n",
    "    \"\"\"\n",
    "    O(n log n) merge sort.\n",
    "    Most efficient general sorting possible.\n",
    "    Can do more than sort consecutive inversions;\n",
    "    thus faster than bubble sort.\n",
    "    \"\"\"\n",
    "    if len(xs) <= 1:\n",
    "        return xs\n",
    "    \n",
    "    left = merge_sort(xs[:int(len(xs)/2)])\n",
    "    right = merge_sort(xs[int(len(xs)/2):])\n",
    "    \n",
    "    return merge(left, right)\n",
    "\n",
    "def merge(left, right):\n",
    "    res = []\n",
    "    while left and right:\n",
    "        if left[0] <= right[0]:\n",
    "            res.append(left[0])\n",
    "            left = left[1:]\n",
    "        else:\n",
    "            res.append(right[0])\n",
    "            right = right[1:]\n",
    "            \n",
    "    while left:\n",
    "        res.append(left[0])\n",
    "        left = left[1:]\n",
    "    while right:\n",
    "        res.append(right[0])\n",
    "        right = right[1:]\n",
    "    return res"
   ]
  },
  {
   "cell_type": "code",
   "execution_count": 132,
   "id": "91ef9af6",
   "metadata": {},
   "outputs": [
    {
     "data": {
      "text/plain": [
       "[-3, 0, 3, 6, 9, 10, 15, 20]"
      ]
     },
     "execution_count": 132,
     "metadata": {},
     "output_type": "execute_result"
    }
   ],
   "source": [
    "bubble_sort([6, 3, 10, 9, 15, 20, 0, -3])"
   ]
  },
  {
   "cell_type": "code",
   "execution_count": 133,
   "id": "5ea4860d",
   "metadata": {},
   "outputs": [
    {
     "data": {
      "text/plain": [
       "[-100, -10, 1, 3, 5, 10, 10, 20, 30, 100]"
      ]
     },
     "execution_count": 133,
     "metadata": {},
     "output_type": "execute_result"
    }
   ],
   "source": [
    "merge_sort([10, 5, 20, 100, -10, 3, 1, 10, 30, -100])"
   ]
  }
 ],
 "metadata": {
  "kernelspec": {
   "display_name": "Python 3",
   "language": "python",
   "name": "python3"
  },
  "language_info": {
   "codemirror_mode": {
    "name": "ipython",
    "version": 3
   },
   "file_extension": ".py",
   "mimetype": "text/x-python",
   "name": "python",
   "nbconvert_exporter": "python",
   "pygments_lexer": "ipython3",
   "version": "3.8.10"
  }
 },
 "nbformat": 4,
 "nbformat_minor": 5
}
