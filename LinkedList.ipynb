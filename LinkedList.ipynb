{
 "cells": [
  {
   "cell_type": "markdown",
   "metadata": {},
   "source": [
    "# Linked List Implementation"
   ]
  },
  {
   "cell_type": "code",
   "execution_count": 82,
   "metadata": {},
   "outputs": [],
   "source": [
    "class Node:\n",
    "    def __init__(self, data, next_=None):\n",
    "        self.data = data\n",
    "        self.next = next_\n",
    "    \n",
    "    def __str__(self):\n",
    "        if self.next:\n",
    "            return str(self.data)\n",
    "        else:\n",
    "            return str(self.data)\n",
    "    \n",
    "    def __next__(self):\n",
    "        return self.next\n",
    "    \n",
    "    def __iter__(self):\n",
    "        head = self\n",
    "        while head:\n",
    "            yield head.data\n",
    "            head = head.next\n",
    "            \n",
    "    def _repr_pretty_(self, p, cycle):\n",
    "        p.text(self.__str__())\n",
    "    \n",
    "\n",
    "class LinkedList:\n",
    "    def __init__(self, head=None, *elements):\n",
    "        self.head = Node(head)\n",
    "        \n",
    "        node = self.head\n",
    "        for el in elements:\n",
    "            node.next = Node(el)\n",
    "            node = node.next\n",
    "    \n",
    "    def __next__(self):\n",
    "        return self.head.next\n",
    "    \n",
    "    def __iter__(self):\n",
    "        head = self.head\n",
    "        while head:\n",
    "            yield head.data\n",
    "            head = head.next\n",
    "    \n",
    "    def __str__(self):\n",
    "        node = self.head\n",
    "        ss = \"[ \"\n",
    "        while node:\n",
    "            if node.next:\n",
    "                ss += str(node) + \", \"\n",
    "            else:\n",
    "                ss += str(node) + \" ]\"\n",
    "            node = node.next\n",
    "        return ss\n",
    "\n",
    "    def _repr_pretty_(self, p, cycle):\n",
    "        p.text(self.__str__())\n",
    "\n",
    "    def last(self):\n",
    "        node = self.head\n",
    "        if node.next:\n",
    "            while node:\n",
    "                if not node.next:\n",
    "                    return node\n",
    "                node = node.next\n",
    "        else:\n",
    "            return node\n",
    "    \n",
    "    def add_node(self, data):\n",
    "        new_node = Node(data)\n",
    "        if self.head:\n",
    "            curr_node = self.head\n",
    "            while curr_node:\n",
    "                if not curr_node.next:\n",
    "                    curr_node.next = new_node\n",
    "                    break\n",
    "                else:\n",
    "                    curr_node = curr_node.next\n",
    "        else:\n",
    "            self.head.next = new_node\n",
    "    \n",
    "    def reverse(self):\n",
    "        \"\"\"\n",
    "        Reverses the LinkedList.\n",
    "        Runs in O(n) time & O(1) space.\n",
    "        \"\"\"\n",
    "        prev = None\n",
    "        curr = self.head\n",
    "        foll = self.head\n",
    "        \n",
    "        while curr:\n",
    "            foll = foll.next\n",
    "            curr.next = prev\n",
    "            prev = curr\n",
    "            curr = foll\n",
    "        \n",
    "        self.head = prev\n",
    "    \n",
    "    def sort(self):\n",
    "        pass\n",
    "    \n",
    "    def sum(self):\n",
    "        acc = 0\n",
    "        for num in self:\n",
    "            acc += num\n",
    "        return acc\n",
    "    \n",
    "    def avg(self):\n",
    "        return self.sum() / self.length()\n",
    "    \n",
    "    def length(self):\n",
    "        j = 0\n",
    "        for el in self:\n",
    "            j += 1\n",
    "        return j\n",
    "    \n",
    "    def fmap(self, f):\n",
    "        curr = self.head\n",
    "        while curr:\n",
    "            curr.data = f(curr.data)\n",
    "            curr = curr.next"
   ]
  },
  {
   "cell_type": "code",
   "execution_count": 83,
   "metadata": {},
   "outputs": [
    {
     "name": "stdout",
     "output_type": "stream",
     "text": [
      "[ 1, 2, 3, 4, 5, 6, 7, 8, 9, 10 ]\n",
      "[ 1, 4, 9, 16, 25, 36, 49, 64, 81, 100 ]\n"
     ]
    }
   ],
   "source": [
    "ll = LinkedList(*range(1, 11))\n",
    "print(ll)\n",
    "ll.fmap(lambda x: x**2)\n",
    "print(ll)"
   ]
  },
  {
   "cell_type": "code",
   "execution_count": 84,
   "metadata": {},
   "outputs": [
    {
     "name": "stdout",
     "output_type": "stream",
     "text": [
      "ll: [ 1, 2, 3, 4 ]\n",
      "reversed list: [ 4, 3, 2, 1 ]\n"
     ]
    }
   ],
   "source": [
    "ll = LinkedList(1, 2, 3, 4)\n",
    "print(\"ll:\", ll)\n",
    "ll.reverse()\n",
    "print(\"reversed list:\", ll)"
   ]
  },
  {
   "cell_type": "code",
   "execution_count": 85,
   "metadata": {},
   "outputs": [
    {
     "name": "stdout",
     "output_type": "stream",
     "text": [
      "[ 4, 3, 2, 1 ]\n",
      "[ -0.7568024953079282, 0.1411200080598672, 0.9092974268256817, 0.8414709848078965 ]\n",
      "0.2837714810963793\n",
      "1.1350859243855171\n",
      "4\n"
     ]
    }
   ],
   "source": [
    "print(ll)\n",
    "\n",
    "import math\n",
    "ll.fmap(math.sin)\n",
    "\n",
    "average = ll.avg()\n",
    "sum_ = ll.sum()\n",
    "length = ll.length()\n",
    "print(ll)\n",
    "print(average)\n",
    "print(sum_)\n",
    "print(length)"
   ]
  },
  {
   "cell_type": "markdown",
   "metadata": {},
   "source": [
    "# Insertion Sort of Python List"
   ]
  },
  {
   "cell_type": "code",
   "execution_count": 91,
   "metadata": {},
   "outputs": [],
   "source": [
    "def insertion_sort(xs):\n",
    "    \"\"\"\n",
    "    Time complexity: O(n) best-case, O(n^2) worst-case\n",
    "    \"\"\"\n",
    "    for j in range(1, len(xs)):\n",
    "        key = xs[j]\n",
    "        i = j - 1\n",
    "        while i >= 0 and xs[i] > key:\n",
    "            xs[i + 1] = xs[i]\n",
    "            i -= 1\n",
    "        xs[i + 1] = key"
   ]
  },
  {
   "cell_type": "code",
   "execution_count": 92,
   "metadata": {},
   "outputs": [
    {
     "name": "stdout",
     "output_type": "stream",
     "text": [
      "[4, 2, 6, 10, -500, 100, 2, 0]\n",
      "[-500, 0, 2, 2, 4, 6, 10, 100]\n"
     ]
    }
   ],
   "source": [
    "xs = [4, 2, 6, 10, -500, 100, 2, 0]\n",
    "print(xs)\n",
    "insertion_sort(xs)\n",
    "print(xs)"
   ]
  }
 ],
 "metadata": {
  "kernelspec": {
   "display_name": "Python 3",
   "language": "python",
   "name": "python3"
  },
  "language_info": {
   "codemirror_mode": {
    "name": "ipython",
    "version": 3
   },
   "file_extension": ".py",
   "mimetype": "text/x-python",
   "name": "python",
   "nbconvert_exporter": "python",
   "pygments_lexer": "ipython3",
   "version": "3.8.10"
  }
 },
 "nbformat": 4,
 "nbformat_minor": 4
}
